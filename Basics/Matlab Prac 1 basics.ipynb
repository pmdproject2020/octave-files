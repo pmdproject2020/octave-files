{
 "cells": [
  {
   "cell_type": "markdown",
   "metadata": {},
   "source": [
    "## Matlab Basics\n",
    "---\n",
    "### Vectors"
   ]
  },
  {
   "cell_type": "markdown",
   "metadata": {},
   "source": [
    "* simple"
   ]
  },
  {
   "cell_type": "code",
   "execution_count": 3,
   "metadata": {},
   "outputs": [
    {
     "name": "stdout",
     "output_type": "stream",
     "text": [
      "vec =\n",
      "\n",
      "   1   2   3   4   5   6\n",
      "\n"
     ]
    }
   ],
   "source": [
    "vec= [1 2 3 4 5 6]"
   ]
  },
  {
   "cell_type": "markdown",
   "metadata": {},
   "source": [
    "* Another way to initialize vectors"
   ]
  },
  {
   "cell_type": "code",
   "execution_count": 4,
   "metadata": {},
   "outputs": [
    {
     "name": "stdout",
     "output_type": "stream",
     "text": [
      "vec =\n",
      "\n",
      "   1   2   3   4   5   6\n",
      "\n"
     ]
    }
   ],
   "source": [
    "vec =1:6"
   ]
  },
  {
   "cell_type": "markdown",
   "metadata": {},
   "source": [
    "- 3rd way to init vec"
   ]
  },
  {
   "cell_type": "code",
   "execution_count": 5,
   "metadata": {},
   "outputs": [
    {
     "name": "stdout",
     "output_type": "stream",
     "text": [
      "vec =\n",
      "\n",
      "   1   3   5   7   9\n",
      "\n"
     ]
    }
   ],
   "source": [
    "vec = 1:2:10"
   ]
  },
  {
   "cell_type": "markdown",
   "metadata": {},
   "source": [
    ">Difference between not giving ; or giving it"
   ]
  },
  {
   "cell_type": "markdown",
   "metadata": {},
   "source": [
    "```octave\n",
    "vec = 1:5\n",
    "\n",
    "vec = \n",
    "    1  2 3 4 5\n",
    "    \n",
    "vec = 1:5;\n",
    "### no output\n",
    "```"
   ]
  },
  {
   "cell_type": "markdown",
   "metadata": {},
   "source": [
    "## 2D matrix"
   ]
  },
  {
   "cell_type": "code",
   "execution_count": 6,
   "metadata": {},
   "outputs": [
    {
     "name": "stdout",
     "output_type": "stream",
     "text": [
      "A =\n",
      "\n",
      "   1   2   3\n",
      "   4   5   6\n",
      "   7   8   9\n",
      "\n"
     ]
    }
   ],
   "source": [
    "A = [1 2 3 ;\n",
    "     4 5 6;\n",
    "     7 8 9\n",
    "    ]"
   ]
  },
  {
   "cell_type": "markdown",
   "metadata": {},
   "source": [
    "- other way to make matrix"
   ]
  },
  {
   "cell_type": "code",
   "execution_count": 7,
   "metadata": {},
   "outputs": [
    {
     "name": "stdout",
     "output_type": "stream",
     "text": [
      "A =\n",
      "\n",
      "   1   2   3\n",
      "   4   5   6\n",
      "   7   8   9\n",
      "\n"
     ]
    }
   ],
   "source": [
    "A = [1:3;4:6;7:9]"
   ]
  },
  {
   "cell_type": "markdown",
   "metadata": {},
   "source": [
    "## Operations on matrix"
   ]
  },
  {
   "cell_type": "markdown",
   "metadata": {},
   "source": [
    "___\n",
    "1. Transpose \n",
    "1. Inverse \n",
    "1. Addition \n",
    "1. Multiplication\n",
    "1. To the Power n\n",
    "1. Elementwise Operation\n",
    "___\n",
    "----"
   ]
  },
  {
   "cell_type": "code",
   "execution_count": 8,
   "metadata": {
    "slideshow": {
     "slide_type": "-"
    }
   },
   "outputs": [
    {
     "name": "stdout",
     "output_type": "stream",
     "text": [
      "A =\n",
      "\n",
      "   1   2   3\n",
      "   4   5   6\n",
      "   7   8   9\n",
      "\n",
      "A_transpose =\n",
      "\n",
      "   1   4   7\n",
      "   2   5   8\n",
      "   3   6   9\n",
      "\n"
     ]
    }
   ],
   "source": [
    "A\n",
    "A_transpose = A'"
   ]
  },
  {
   "cell_type": "code",
   "execution_count": 10,
   "metadata": {},
   "outputs": [
    {
     "name": "stdout",
     "output_type": "stream",
     "text": [
      "A =\n",
      "\n",
      "   1   2   3\n",
      "   4   5   6\n",
      "   7   8   9\n",
      "\n",
      "warning: matrix singular to machine precision, rcond = 1.54198e-18\n",
      "B =\n",
      "\n",
      "  -4.5036e+15   9.0072e+15  -4.5036e+15\n",
      "   9.0072e+15  -1.8014e+16   9.0072e+15\n",
      "  -4.5036e+15   9.0072e+15  -4.5036e+15\n",
      "\n"
     ]
    }
   ],
   "source": [
    "A\n",
    "B=inv(A)"
   ]
  },
  {
   "cell_type": "code",
   "execution_count": 14,
   "metadata": {},
   "outputs": [
    {
     "name": "stdout",
     "output_type": "stream",
     "text": [
      "A =\n",
      "\n",
      "   1   2   3\n",
      "   4   5   6\n",
      "   7   8   9\n",
      "\n",
      "<==================================Ans=======================>\n",
      "\n",
      "B =\n",
      "\n",
      "    7    8    9\n",
      "   10   11   12\n",
      "   13   14   15\n",
      "\n",
      "C =\n",
      "\n",
      "    8   10   12\n",
      "   14   16   18\n",
      "   20   22   24\n",
      "\n"
     ]
    }
   ],
   "source": [
    "A\n",
    "disp(\"<==================================Ans=======================>\\n\")\n",
    "B = A + 6\n",
    "C = A +B"
   ]
  },
  {
   "cell_type": "code",
   "execution_count": 24,
   "metadata": {},
   "outputs": [
    {
     "name": "stdout",
     "output_type": "stream",
     "text": [
      "D =\n",
      "\n",
      "    2    4    6\n",
      "    8   10   12\n",
      "   14   16   18\n",
      "\n",
      "e =\n",
      "\n",
      "   4   3   2\n",
      "   3   2   1\n",
      "   2   3   4\n",
      "\n",
      "E =\n",
      "\n",
      "   16   16   16\n",
      "   43   40   37\n",
      "   70   64   58\n",
      "\n"
     ]
    }
   ],
   "source": [
    "D = A * 2\n",
    "e=[4:-1:2;3:-1:1;2:4]\n",
    "#Mult with mat\n",
    "E = A * e\n"
   ]
  },
  {
   "cell_type": "markdown",
   "metadata": {},
   "source": [
    "- To the power n"
   ]
  },
  {
   "cell_type": "code",
   "execution_count": 25,
   "metadata": {},
   "outputs": [
    {
     "name": "stdout",
     "output_type": "stream",
     "text": [
      "A\n",
      "A =\n",
      "\n",
      "   1   2   3\n",
      "   4   5   6\n",
      "   7   8   9\n",
      "\n",
      "A^2\n",
      "A_n =\n",
      "\n",
      "    30    36    42\n",
      "    66    81    96\n",
      "   102   126   150\n",
      "\n"
     ]
    }
   ],
   "source": [
    "disp(\"A\")\n",
    "A\n",
    "disp(\"A^2\")\n",
    "A_n=A^2"
   ]
  },
  {
   "cell_type": "markdown",
   "metadata": {},
   "source": [
    "- ELementwise Operation Examples :\n",
    "---"
   ]
  },
  {
   "cell_type": "code",
   "execution_count": 35,
   "metadata": {},
   "outputs": [
    {
     "name": "stdout",
     "output_type": "stream",
     "text": [
      "A =\n",
      "\n",
      "    1    2    3    4    5    6    7    8    9   10\n",
      "\n",
      "ans =\n",
      "\n",
      "    5   10   15   20   25   30   35   40   45   50\n",
      "\n",
      "D =\n",
      "\n",
      "    2    4    6\n",
      "    8   10   12\n",
      "   14   16   18\n",
      "\n",
      "eigen of D => \n",
      "ans =\n",
      "\n",
      "   3.2234e+01\n",
      "  -2.2337e+00\n",
      "  -2.6074e-15\n",
      "\n"
     ]
    }
   ],
   "source": [
    "A \n",
    "A.*5\n",
    "D\n",
    "disp(\"eigen of D => \")\n",
    "eig(D)"
   ]
  },
  {
   "cell_type": "markdown",
   "metadata": {},
   "source": [
    "In previous e.g. we are multiplying each element of **A** by **5**\n",
    "\n",
    "The operator to doing element wise operation in matlab is \n",
    "```matlab \n",
    " .*  # for multiply elementwise\n",
    " .^ # for to the power elementwise\n",
    "```\n",
    "\n",
    "E.g. \n",
    "```octave\n",
    "A = 1:10\n",
    "b = A .* 12\n",
    "```"
   ]
  },
  {
   "cell_type": "code",
   "execution_count": 30,
   "metadata": {},
   "outputs": [
    {
     "name": "stdout",
     "output_type": "stream",
     "text": [
      "    1    2    3    4    5    6    7    8    9   10\n",
      "b =\n",
      "\n",
      "    12    24    36    48    60    72    84    96   108   120\n",
      "\n"
     ]
    }
   ],
   "source": [
    "A = 1:10;\n",
    "# Print in matlab\n",
    "disp(A)\n",
    "b = A .* 12"
   ]
  },
  {
   "cell_type": "markdown",
   "metadata": {},
   "source": [
    "## Polynomial in Matlab\n",
    "---\n",
    "#### Matlab treats n+1 sized vectors as polynomila of n-th degree\n",
    "- Example\n",
    "---\n",
    ">Polynomial => F(a) =  2*a^3 + 5*a +3 will be treated as :\n",
    "```octave\n",
    " a = [2 0 5 3]\n",
    "```\n",
    "\n",
    "---\n",
    "Now you want to know the value of the polynomial at a = 3. To do that the code :\n",
    "```octave\n",
    " y = polyval(a, 2) # y(2) = 2*2^3 + 5*2 + 3\n",
    "```"
   ]
  },
  {
   "cell_type": "code",
   "execution_count": 36,
   "metadata": {},
   "outputs": [
    {
     "name": "stdout",
     "output_type": "stream",
     "text": [
      "a =\n",
      "\n",
      "   2   0   5   3\n",
      "\n",
      "y =  29\n"
     ]
    }
   ],
   "source": [
    "a = [2 0 5 3]\n",
    "y = polyval(a,2 )"
   ]
  },
  {
   "cell_type": "markdown",
   "metadata": {},
   "source": [
    "### Matlab is so powerful\n",
    "---\n",
    ">Small Snippet to solve system of linear eq. \n",
    "```math-Equations\n",
    "a1*x + b1*y + c1 = d1\n",
    "a2*x + b2*x + c2 = d2\n",
    "a3*x + b3*x + c3 = d3\n",
    "```\n",
    "```octave\n",
    "A = [1 1 5; 1 5 1; 5 1 1]\n",
    "b = [7;7;7]\n",
    "X =  inv(A) * b # BOOM ; X => Solutions\n",
    "```\n",
    "\n",
    "---\n",
    "Try it yourself\n"
   ]
  },
  {
   "cell_type": "markdown",
   "metadata": {},
   "source": [
    "### Let's See how to take help about any function in matlab\n",
    ">help function_name\n",
    "```octave\n",
    "help sin\n",
    "```"
   ]
  },
  {
   "cell_type": "code",
   "execution_count": 44,
   "metadata": {},
   "outputs": [
    {
     "name": "stdout",
     "output_type": "stream",
     "text": [
      "'sin' is a built-in function from the file libinterp/corefcn/mappers.cc\n",
      "\n",
      " -- sin (X)\r\n",
      "     Compute the sine for each element of X in radians.\r\n",
      "\r\n",
      "     See also: asin, sind, sinh.\r\n",
      "\r\n",
      "\n",
      "\n",
      "Additional help for built-in functions and operators is\n",
      "available in the online version of the manual.  Use the command\n",
      "'doc <topic>' to search the manual index.\n",
      "\n",
      "Help and information about Octave is also available on the WWW\n",
      "at https://www.octave.org and via the help@octave.org\n",
      "mailing list.\n"
     ]
    }
   ],
   "source": [
    "help sin"
   ]
  },
  {
   "cell_type": "markdown",
   "metadata": {},
   "source": [
    "## UPCOMING Topics\n",
    "- __STRING Formats__\n",
    "\n",
    " Link : [String Formats to print statements with variables included](https://in.mathworks.com/help/matlab/matlab_prog/formatting-strings.html)\n",
    "- __Conditional Statements__\n",
    " * If-Else Structure \n",
    "     - link : [IF ELSE](https://www.tutorialspoint.com/matlab/if_elseif_else_statement.htm)\n",
    "- __Loops__\n",
    " - while\n",
    ">Syntax\n",
    ">[While LOOP](https://in.mathworks.com/help/matlab/ref/while.html)     \n",
    " --- \n",
    "     \n",
    "    ```\n",
    "    while expression\n",
    "        statements\n",
    "     end```\n",
    "     \n",
    "  --- \n",
    " - for\n",
    " \n",
    " >FOR LOOP Syntax\n",
    " \n",
    " ```octave\n",
    " #type 1:\n",
    " for i = start_index:end_index\n",
    "     #body\n",
    " end\n",
    " #type 2:\n",
    " for i = start_index:steps_of_increment:end_index\n",
    "     #body\n",
    " end\n",
    " #type 3:\n",
    " for i = start_index:steps_of_decrement:end_index\n",
    "     #body\n",
    " end\n",
    " ```"
   ]
  },
  {
   "cell_type": "code",
   "execution_count": 89,
   "metadata": {
    "scrolled": true
   },
   "outputs": [
    {
     "name": "stdout",
     "output_type": "stream",
     "text": [
      "n! = 3628800\n",
      "\n",
      "Step - 0\n",
      "H =\n",
      "\n",
      "   1   2   3   4\n",
      "   0   0   0   0\n",
      "   0   0   0   0\n",
      "\n",
      "\n",
      "Step - 1\n",
      "H =\n",
      "\n",
      "   1   2   3   4\n",
      "   2   3   4   5\n",
      "   0   0   0   0\n",
      "\n",
      "\n",
      "Step - 2\n",
      "H =\n",
      "\n",
      "   1   2   3   4\n",
      "   2   3   4   5\n",
      "   3   4   5   6\n",
      "\n",
      " 10\n",
      " 9\n",
      " 8\n",
      " 7\n",
      " 6\n",
      " 5\n",
      " 4\n",
      " 3\n",
      " 2\n",
      " 1\n",
      "Loop 3 ============================>\n",
      " 1\n",
      " 3\n",
      " 5\n",
      " 7\n",
      " 9\n"
     ]
    }
   ],
   "source": [
    "#While LOOP\n",
    "#Factorial\n",
    "n = 10;\n",
    "f = n;\n",
    "while n > 1\n",
    "    n = n-1;\n",
    "    f = f*n;\n",
    "end\n",
    "disp(['n! = ' num2str(f)])  #display function with txt formating\n",
    "\n",
    "#for Loop 1 inc Index\n",
    "#Note: array starts from index 1\n",
    "row=3;\n",
    "col=4;\n",
    "count=0;\n",
    "H = zeros(row,col);\n",
    "for r = 1:row\n",
    "    fprintf(\"\\nStep - %d\\n\",count++)\n",
    "    for c = 1:col\n",
    "        H(r,c) = r+c-1;\n",
    "    end\n",
    "    H\n",
    "end\n",
    "\n",
    "#for loop 2 Dec. Index\n",
    "for v = 10:-1:1\n",
    "   disp(v)\n",
    "end\n",
    "#for loop 3 : List\n",
    "disp(\"Loop 3 ============================>\")\n",
    "for v = [1:2:10]\n",
    "   disp(v)\n",
    "end\n"
   ]
  },
  {
   "cell_type": "markdown",
   "metadata": {},
   "source": [
    "### Let's See how string works in matlab \n",
    "> Link : [String Concats ](https://in.mathworks.com/help/matlab/ref/strcat.html)\n",
    "\n",
    "```octave\n",
    "a = ['Hello '];\n",
    "b = ['World'];\n",
    "strcat(a , b)\n",
    "```"
   ]
  },
  {
   "cell_type": "markdown",
   "metadata": {},
   "source": [
    "### User Input \n",
    "> Example\n",
    "```octave\n",
    "user_inp = input('Enter Your Name : ',user_inp)\n",
    "```"
   ]
  },
  {
   "cell_type": "markdown",
   "metadata": {},
   "source": [
    "# Thanks For Reading My First Matlab Basics\n",
    ">Please Share this file with your friends\n",
    "\n",
    "[Link to The Matlab Basics File](https://github.com/pmdproject2020/octave-files.git)\n",
    "\n",
    "&copy; Pritam Chakraborty \\[31-01-2020\\]"
   ]
  }
 ],
 "metadata": {
  "kernelspec": {
   "display_name": "Octave",
   "language": "octave",
   "name": "octave"
  },
  "language_info": {
   "file_extension": ".m",
   "help_links": [
    {
     "text": "GNU Octave",
     "url": "https://www.gnu.org/software/octave/support.html"
    },
    {
     "text": "Octave Kernel",
     "url": "https://github.com/Calysto/octave_kernel"
    },
    {
     "text": "MetaKernel Magics",
     "url": "https://metakernel.readthedocs.io/en/latest/source/README.html"
    }
   ],
   "mimetype": "text/x-octave",
   "name": "octave",
   "version": "5.1.0"
  }
 },
 "nbformat": 4,
 "nbformat_minor": 2
}
